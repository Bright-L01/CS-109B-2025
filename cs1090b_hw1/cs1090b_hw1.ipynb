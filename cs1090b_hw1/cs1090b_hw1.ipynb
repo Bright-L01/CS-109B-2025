{
 "cells": [
  {
   "cell_type": "code",
   "execution_count": 2,
   "id": "7263ef62",
   "metadata": {
    "deletable": false,
    "editable": false
   },
   "outputs": [
    {
     "ename": "ModuleNotFoundError",
     "evalue": "No module named 'otter'",
     "output_type": "error",
     "traceback": [
      "\u001b[0;31m---------------------------------------------------------------------------\u001b[0m",
      "\u001b[0;31mModuleNotFoundError\u001b[0m                       Traceback (most recent call last)",
      "Cell \u001b[0;32mIn[2], line 2\u001b[0m\n\u001b[1;32m      1\u001b[0m \u001b[39m# Initialize Otter\u001b[39;00m\n\u001b[0;32m----> 2\u001b[0m \u001b[39mimport\u001b[39;00m\u001b[39m \u001b[39m\u001b[39motter\u001b[39;00m\n\u001b[1;32m      3\u001b[0m grader \u001b[39m=\u001b[39m otter\u001b[39m.\u001b[39mNotebook(\u001b[39m\"\u001b[39m\u001b[39mcs1090b_hw1.ipynb\u001b[39m\u001b[39m\"\u001b[39m)\n",
      "\u001b[0;31mModuleNotFoundError\u001b[0m: No module named 'otter'"
     ]
    }
   ],
   "source": [
    "# Initialize Otter\n",
    "import otter\n",
    "grader = otter.Notebook(\"cs1090b_hw1.ipynb\")"
   ]
  },
  {
   "cell_type": "markdown",
   "id": "78f70a80-432b-4703-97ca-cc8cf5ac07ce",
   "metadata": {
    "cell_id": "c614e247-bfe6-410e-aa53-6ef28077efca",
    "deepnote_cell_type": "markdown",
    "tags": []
   },
   "source": [
    "# <img style=\"float: left; padding-right: 10px; width: 45px\" src=\"https://raw.githubusercontent.com/Harvard-IACS/2018-CS109A/master/content/styles/iacs.png\"> Data Science 2: Advanced Topics in Data Science \n",
    "\n",
    "## Homework 1: Clustering & Hierarchical Bayesian Models\n",
    "\n",
    "\n",
    "\n",
    "**Harvard University**<br/>\n",
    "**Spring 2025**<br/>\n",
    "**Instructors**: Pavlos Protopapas & Natesh Pillai\n",
    "\n",
    "\n",
    "<hr style=\"height:2pt\">"
   ]
  },
  {
   "cell_type": "code",
   "execution_count": null,
   "id": "3c48c6eb-6f1f-4027-b78a-421ff76c10a1",
   "metadata": {
    "cell_id": "00003-92d40d56-64ec-43cd-9eb7-dc6d7c74cc56",
    "deepnote_cell_type": "code",
    "deepnote_to_be_reexecuted": false,
    "execution_millis": 107,
    "execution_start": 1646007995372,
    "source_hash": "582c49fa"
   },
   "outputs": [],
   "source": [
    "# RUN THIS CELL \n",
    "import requests\n",
    "from IPython.core.display import HTML\n",
    "styles = requests.get(\n",
    "    \"https://raw.githubusercontent.com/Harvard-IACS/2018-CS109A/master/\"\n",
    "    \"content/styles/cs109.css\"\n",
    ").text\n",
    "HTML(styles)"
   ]
  },
  {
   "cell_type": "markdown",
   "id": "72ef3938-5543-4443-969a-abc8334ce5ce",
   "metadata": {
    "cell_id": "00007-54423271-a2de-4320-abcc-05d0eaaa1881",
    "deepnote_cell_type": "markdown"
   },
   "source": [
    "## Notebook Contents\n",
    "<a id=\"contents\"></a>\n",
    "- [**Part 0: K-means Clustering of Animal Traits**](#part0)\n",
    "- **Bayesian Logistic Regression**\n",
    "- [**Part 1: Varying-Intercept Model (Simulated Response Variable)**](#part1)\n",
    "- [**Part 2: Varying-Intercept Model (Real Data)**](#part2)\n",
    "- [**Part 3: Varying-Coefficients Model**](#part3)\n",
    "- [**Part 4: Prediction & Model Selection**](#part4)"
   ]
  },
  {
   "cell_type": "code",
   "execution_count": null,
   "id": "f1ddddca-d929-4685-8535-6f63edccb3a4",
   "metadata": {},
   "outputs": [],
   "source": [
    "# Imports for Part 0\n",
    "import time\n",
    "import numpy as np\n",
    "import pandas as pd\n",
    "import matplotlib.pyplot as plt\n",
    "import seaborn as sns\n",
    "\n",
    "from sklearn.cluster import KMeans\n",
    "from sklearn.decomposition import PCA\n",
    "# You can decide what to import from the preprocessing module\n",
    "#from sklearn.preprocessing import ..."
   ]
  },
  {
   "cell_type": "code",
   "execution_count": null,
   "id": "08e1c68c-e33b-4319-ac46-d0d496c86b18",
   "metadata": {},
   "outputs": [],
   "source": [
    "# measure notebook runtime\n",
    "time_start = time.time()"
   ]
  },
  {
   "cell_type": "markdown",
   "id": "9d64da8f-3183-4565-88fd-1b5830fdb75e",
   "metadata": {
    "cell_id": "00033-a22e1869-53f7-4d5c-b241-3a4fbc2e059a",
    "deepnote_cell_type": "markdown",
    "tags": []
   },
   "source": [
    "<a id=\"part0\"></a>\n",
    "\n",
    "### <div class='exercise'>Part 0: K-means Clustering of Animal Traits</div> \n",
    "As a warm-up, we'll perform K-means clustering on a dataset of animal characteristics before moving on to our main Bayesian analysis.\n",
    "\n",
    "[Return to contents](#contents)"
   ]
  },
  {
   "cell_type": "markdown",
   "id": "26ae69c0-4307-4dbe-98cf-c5043ab82e72",
   "metadata": {
    "deletable": false,
    "editable": false
   },
   "source": [
    "<!-- BEGIN QUESTION -->\n",
    "<div class='exercise'><b>Q0.1 - Data Preprocessing</b></div>\n",
    "\n",
    "The file `zoo.csv` contains information about 100 different animals.\n",
    "\n",
    "Load the data into a Pandas DataFrame and inspect the features. You will need to decide which columns it makes sense to include as input to the K-means clustering algorithm and what preprocessing you deem necessary. Store the processed features in a matrix `X`.\n",
    "\n",
    "**Note:** You must justify your preprocessing decisions based on the nature of the features and your clustering objectives. This also applies to *negative* decisions (e.g., choices to *not* perform a generally standard type of preprocessing). "
   ]
  },
  {
   "cell_type": "code",
   "execution_count": null,
   "id": "073e6ddf-e4ae-4084-9fd2-0fe415d03c31",
   "metadata": {
    "tags": [
     "otter_answer_cell"
    ]
   },
   "outputs": [],
   "source": [
    "# your code here"
   ]
  },
  {
   "cell_type": "markdown",
   "id": "328adf7f-17a5-4585-96a7-95895e6f1b91",
   "metadata": {
    "tags": [
     "otter_answer_cell"
    ]
   },
   "source": [
    "*Your answer here*\n",
    "\n"
   ]
  },
  {
   "cell_type": "markdown",
   "id": "08b47553-6770-4af6-8364-06f83dfec8bc",
   "metadata": {
    "deletable": false,
    "editable": false
   },
   "source": [
    "<!-- BEGIN QUESTION -->\n",
    "\n",
    "<div class='exercise'><b>Q0.2 - PCA Visualization</b></div>\n",
    "Before we begin clustering, we should attempt to visualize the data.\n",
    "\n",
    "Create a 2D scatter plot of the data projected onto the first two principle components. Be sure to also report the variance explained by these components.\n",
    "\n",
    "Based on your visualization, discuss whether you see evidence of natural clusters in the data.\n",
    "\n",
    "**Hint:** There is a PCA projection plot in the penguin example at the end of the lab 1 notebook."
   ]
  },
  {
   "cell_type": "code",
   "execution_count": null,
   "id": "2e3c54fa-4071-44cf-9e49-7557a27ee5fe",
   "metadata": {
    "tags": [
     "otter_answer_cell"
    ]
   },
   "outputs": [],
   "source": [
    "# your code here"
   ]
  },
  {
   "cell_type": "markdown",
   "id": "651ea8e4-db46-410d-82f5-72f99c1b3624",
   "metadata": {
    "tags": [
     "otter_answer_cell"
    ]
   },
   "source": [
    "*Your answer here*\n",
    "\n"
   ]
  },
  {
   "cell_type": "markdown",
   "id": "1d28260e-deb5-4bc6-9eb7-1d815316f229",
   "metadata": {
    "deletable": false,
    "editable": false
   },
   "source": [
    "<!-- BEGIN QUESTION -->\n",
    "<div class='exercise'><b>Q0.3 - Determining Optimal $k$</b></div>\n",
    "Implement and visualize two different methods for determining the optimal number of clusters:\n",
    "\n",
    "1. Plot the inertia vs $k$ for $k \\in \\{2,3,\\dots,20\\}$\n",
    "2. Plot the average silhouette score vs $k$ for the same range\n",
    "\n",
    "Choose and justify your optimal k based on these metrics. Discuss any differences between what the metrics suggest and whether one seems more reliable for this dataset."
   ]
  },
  {
   "cell_type": "code",
   "execution_count": null,
   "id": "2142f5e1-46ea-44e8-831c-9b340e9c7184",
   "metadata": {
    "tags": [
     "otter_answer_cell"
    ]
   },
   "outputs": [],
   "source": [
    "# your code here"
   ]
  },
  {
   "cell_type": "markdown",
   "id": "2b75aeeb-f5b0-41bb-8de8-b5f1ee819513",
   "metadata": {
    "tags": [
     "otter_answer_cell"
    ]
   },
   "source": [
    "*Your answer here*\n",
    "\n"
   ]
  },
  {
   "cell_type": "markdown",
   "id": "92d6b0fc-329c-4aaa-8ec9-cf0b08a779b6",
   "metadata": {
    "deletable": false,
    "editable": false
   },
   "source": [
    "<!-- BEGIN QUESTION -->\n",
    "<div class='exercise'><b>Q0.4 - Cluster Analysis</b></div>\n",
    "\n",
    "Using the results of fitting K-means with your choice of optimal $k$, create a visualization showing:\n",
    "   - Your datapoints in the 2D PCA space\n",
    "   - Points colored by cluster assignment\n",
    "   - Each `animal_name` annotated on the plot near its corresponding point \n",
    "\n",
    "Finally, interpret your results:\n",
    "   - How well-separated are your clusters?\n",
    "   - Do the clusters align with biological classifications?\n",
    "   - Do any points seem to have been assigned to the wrong cluster? You may not be able to tell from your plot alone and so you should investigate this issue using one of the metrics discussed in class."
   ]
  },
  {
   "cell_type": "code",
   "execution_count": null,
   "id": "f8957dda-4412-4fb4-b222-1173d7adaa12",
   "metadata": {
    "tags": [
     "otter_answer_cell"
    ]
   },
   "outputs": [],
   "source": [
    "# your code here"
   ]
  },
  {
   "cell_type": "markdown",
   "id": "75700657-3fe4-4e98-8be8-75c09283dc45",
   "metadata": {
    "tags": [
     "otter_answer_cell"
    ]
   },
   "source": [
    "*Your answer here*\n",
    "\n"
   ]
  },
  {
   "cell_type": "code",
   "execution_count": null,
   "id": "2ff8054e-602b-4ae8-907b-a1163df0431d",
   "metadata": {
    "cell_id": "00005-8ca7a4a4-a390-4f13-b25c-f5239a9c9672",
    "deepnote_cell_type": "code",
    "deepnote_to_be_reexecuted": false,
    "execution_millis": 4985,
    "execution_start": 1646007995478,
    "source_hash": "fe7500ba"
   },
   "outputs": [],
   "source": [
    "# Additional imports for Parts 1-4\n",
    "import arviz as az\n",
    "import pymc as pm\n",
    "from scipy.special import expit"
   ]
  },
  {
   "cell_type": "markdown",
   "id": "e766e57a-ff2e-4f38-8a97-885ce2da7331",
   "metadata": {},
   "source": [
    "## Hierarchical Bayesian Models"
   ]
  },
  {
   "cell_type": "markdown",
   "id": "dbd4a8ca-a0f2-4316-9a60-2cb02ada3f7a",
   "metadata": {
    "cell_id": "00008-143a5876-536a-4029-a770-d95f9545932e",
    "deepnote_cell_type": "markdown"
   },
   "source": [
    "## Dataset Information"
   ]
  },
  {
   "cell_type": "markdown",
   "id": "619ef2a3-3b87-4f64-96a2-dcf40ba6da34",
   "metadata": {
    "cell_id": "00009-6ed48207-9bee-46bf-bcff-c7188d53fec0",
    "deepnote_cell_type": "markdown"
   },
   "source": [
    "### Contraceptive Usage by Bangladeshi Women\n",
    "\n",
    "For this assignment, you are provided with datasets `train.csv` and `test.csv` which contain details of contraceptive usage among 1,934 Bangladeshi women.\n",
    "\n",
    "There are four attributes for each woman along with a response variable, `contraceptive_use`, indicating if she uses contraceptives. The four attributes include:\n",
    "\n",
    "* `district`: code identifying the district in which the woman lives (60 districts in total)\n",
    "* `urban`: type of region of residence (binary)\n",
    "* `living.children`: number of living children\n",
    "* `age-mean`: age of the woman (in years, centered around mean)\n",
    "\n",
    "The task is to build a classification model that can predict if a given woman uses contraceptives."
   ]
  },
  {
   "cell_type": "markdown",
   "id": "64a6c3cf-c2b5-4272-b5fe-ff8dbfe29dea",
   "metadata": {},
   "source": [
    "The following cell will load and inspect the train and test datasets."
   ]
  },
  {
   "cell_type": "code",
   "execution_count": null,
   "id": "051ae6e1-5915-4c23-b049-b476d1fe36de",
   "metadata": {
    "cell_id": "00037-3507b8b2-274c-46fc-840e-c4637cc1ec2f",
    "deepnote_cell_type": "code",
    "deepnote_to_be_reexecuted": false,
    "execution_millis": 2505,
    "execution_start": 1646008043375,
    "source_hash": "827ab2a8"
   },
   "outputs": [],
   "source": [
    "# loading and inspecting the data\n",
    "df_train = pd.read_csv(\"data/train.csv\")\n",
    "df_test = pd.read_csv(\"data/test.csv\")\n",
    "\n",
    "# print dataset summary info for ease of reference\n",
    "print(\"TRAINING DATA INFO:\\n\")\n",
    "df_train.info()\n",
    "print(\"\\nTEST DATA INFO:\\n\")\n",
    "df_test.info()\n",
    "print(\"\\nTRAINING DATA SUMMARY STATS:\\n\")\n",
    "print(df_train.describe())\n",
    "print(\"\\nTRAINING DATA FIRST ROWS OF DATA:\")\n",
    "display(df_train.head(3))\n",
    "print()\n",
    "\n",
    "# And plot observation counts by district also just for reference\n",
    "def plot_value_counts(value_counts, var_name, font_perc):\n",
    "    \"\"\"Generates barplot from pandas value_counts series\"\"\"\n",
    "    fig, ax = plt.subplots(figsize=(12, 4))\n",
    "\n",
    "    max_y = max(value_counts.values)\n",
    "    n_cats = len(value_counts)\n",
    "\n",
    "    ax.bar(range(n_cats), value_counts.values, alpha=0.5)\n",
    "\n",
    "    for x, y in enumerate(value_counts):\n",
    "        ax.text(\n",
    "            x, y+max_y*.02,\n",
    "            \"{:,}\".format(y),\n",
    "            color=\"k\",\n",
    "            fontsize=14*font_perc,\n",
    "            horizontalalignment=\"center\"\n",
    "        ) \n",
    "\n",
    "    ax.set_title(\n",
    "        \"Number of training observations by {} after mapping district values\".format(\n",
    "            var_name\n",
    "        ),\n",
    "        fontsize=18\n",
    "    )\n",
    "    ax.set_xlabel(\"{}\".format(var_name), fontsize=15)\n",
    "    ax.set_ylabel(\"observations\", fontsize=15)\n",
    "    ax.set_xticks(range(n_cats))\n",
    "    ax.set_xticklabels(value_counts.index)\n",
    "    ax.tick_params(\"x\", labelsize=14*font_perc)\n",
    "    ax.tick_params(\"y\", labelsize=12)\n",
    "    ax.set_ylim(top=max_y+(max_y*.1))\n",
    "\n",
    "    ax.grid(\":\", axis=\"y\", alpha=0.4)\n",
    "    ax.margins(x=.01)\n",
    "    plt.tight_layout()\n",
    "    plt.show();\n",
    "\n",
    "# plot and print summary of resulting district values\n",
    "dist_counts = df_train[\"district\"].value_counts().sort_index()\n",
    "\n",
    "plot_value_counts(dist_counts, \"district\", .7)"
   ]
  },
  {
   "cell_type": "markdown",
   "id": "49388b19-7022-4e30-943a-f536467607b2",
   "metadata": {
    "cell_id": "00031-11dbdba9-8a05-4c0a-bced-ccbe97aab0df",
    "deepnote_cell_type": "markdown"
   },
   "source": [
    "\n",
    "\n",
    "## Bayesian Logistic Regression with Varying-Intercept Description\n"
   ]
  },
  {
   "cell_type": "markdown",
   "id": "5f5610ed-d992-42a9-9765-5da655a2a266",
   "metadata": {
    "cell_id": "00032-1b14682c-c533-45a3-ae84-324ebd25a966",
    "deepnote_cell_type": "markdown",
    "tags": []
   },
   "source": [
    "The first model we'd like to fit to the contraceptives data will be a **varying-intercept logistic regression** model, where the model's intercept varies by district.\n",
    "\n",
    "Prior distributions:\n",
    "\n",
    "$$\n",
    "\\begin{split}\n",
    "\\beta_{0j} &\\sim N(\\mu_0,\\sigma_0^2)\\; \\text{, with} \\;\\; \\mu_0 \\sim N(0,10000)\\; \\text{and} \\; \\; \\frac{1}{\\sigma^2_0} \\sim \\text{Gamma}(0.1,0.1)\n",
    "\\\\\n",
    "\\beta_1 &\\sim N(0,10000) \n",
    "\\\\ \\\\ \n",
    "\\beta_2 &\\sim N(0,10000)\n",
    "\\\\ \\\\ \n",
    "\\beta_3 &\\sim N(0,10000)\n",
    "\\\\ \\\\\n",
    "\\end{split}\n",
    "$$\n",
    "\n",
    "Model for data:\n",
    "\n",
    "$$\n",
    "\\begin{split}\n",
    "Y_{ij} & \\sim \\text{Bernoulli}(p_{ij})\n",
    "\\\\ \\\\\n",
    "\\text{logit}\\:p_{ij} &= \\beta_{0j} + \\beta_1 \\times \\text{urban} + \\beta_2 \\times \\text{living.children} + \\beta_3 \\times \\text{age-mean}\n",
    "\\\\ \\\\\n",
    "\\end{split}\n",
    "$$\n",
    "\n",
    "Where $Y_{ij}$ is 1 if woman $i$ in district $j$ uses contraceptives, and 0 otherwise, and where $i \\in \\{1,...,N\\}$ and $j \\in \\{1,...,J\\}$. $N$ is the number of observations in the data, and $J$ is the number of districts. The above notation assumes $N(\\mu, \\sigma^2)$ is a Normal distribution with mean $\\mu$ and variance $\\sigma^2$.\n",
    "\n",
    "**PLEASE NOTE:** The $\\text{Gamma}$ distribution cited above, uses the $\\text{Gamma}(\\alpha, \\beta)$ parametrization, where $\\alpha$ is the shape and $\\beta$ is the rate.  "
   ]
  },
  {
   "cell_type": "markdown",
   "id": "01f55bc6-850c-48d9-9004-8666d8ae97ad",
   "metadata": {
    "cell_id": "00033-a22e1869-53f7-4d5c-b241-3a4fbc2e059a",
    "deepnote_cell_type": "markdown",
    "tags": []
   },
   "source": [
    "<a id=\"part1\"></a>\n",
    "\n",
    "### <div class='exercise'>Part 1: Varying-Intercept Model (Simulated Response Variable)</div> \n",
    "\n",
    "[Return to contents](#contents)"
   ]
  },
  {
   "cell_type": "markdown",
   "id": "c76452c9-966c-416c-931e-5c0db7a25e70",
   "metadata": {
    "deletable": false,
    "editable": false
   },
   "source": [
    "<!-- BEGIN QUESTION -->\n",
    "\n",
    "<div class='exercise'><b>Q1.1 - Simulate Response</b></div>"
   ]
  },
  {
   "cell_type": "markdown",
   "id": "771024be-ebea-465d-a74f-5f9b032eb298",
   "metadata": {
    "cell_id": "00033-a22e1869-53f7-4d5c-b241-3a4fbc2e059a",
    "deepnote_cell_type": "markdown",
    "deletable": false,
    "editable": false
   },
   "source": [
    "To verify that PyMC can indeed recover the hidden parameter values, we'll simulate values of the response variable, `contraceptive_use`, for observations in the training set using the 4 predictors and *hard-coded model parameters of our choosing*. Then, using this simulated data, we'll check if PyMC can get back the parameter values that we hard-coded. If it does, we'll have some reason to believe that it can recover the hidden parameter values that generated the *real* data.\n",
    "\n",
    "**Note: Synthetic response values generated using the parameters below will only be used in question 1.1 - 1.4**.\n",
    "\n",
    "Generate $Y$ using the training data and the following hard-coded values:\n",
    "\n",
    "$$\n",
    "\\begin{split}\n",
    "\\mu_0 &= 0.5\n",
    "\\\\ \\\\\n",
    "\\sigma^2_0 &= 0.3\n",
    "\\\\ \\\\\n",
    "\\beta_{0j} &\\sim N(\\mu_0,\\sigma_0^2) \\; \\text{for all sixty districts}\n",
    "\\\\ \\\\\n",
    "\\beta_1 &= 1\n",
    "\\\\ \\\\ \n",
    "\\beta_2 &= -0.5\n",
    "\\\\ \\\\\n",
    "\\beta_3 &= -0.3\n",
    "\\\\ \\\\\n",
    "\\end{split}\n",
    "$$\n",
    "\n",
    "Save your simulated values in a numpy array called `simulated_Y`.\n",
    "\n",
    "**Verify that these parameters generate data in which an average of 48% to 50% of subjects use contraceptives.**"
   ]
  },
  {
   "cell_type": "code",
   "execution_count": null,
   "id": "bdd6fd49-25d7-403e-9374-2952d4617a92",
   "metadata": {
    "cell_id": "00040-4092e424-d9e7-47c3-a52f-caeb016a8141",
    "deepnote_cell_type": "code",
    "deepnote_to_be_reexecuted": false,
    "execution_millis": 44,
    "execution_start": 1646008045851,
    "source_hash": "c8995bb7",
    "tags": [
     "otter_answer_cell"
    ]
   },
   "outputs": [],
   "source": [
    "# set seed for consistency across runs\n",
    "np.random.seed(109)\n",
    "# your code here\n",
    "...\n",
    "simulated_Y = ...\n",
    "..."
   ]
  },
  {
   "cell_type": "code",
   "execution_count": null,
   "id": "b118bf96",
   "metadata": {
    "deletable": false,
    "editable": false
   },
   "outputs": [],
   "source": [
    "grader.check(\"q#1.1\")"
   ]
  },
  {
   "cell_type": "markdown",
   "id": "86ac81ef-f831-4674-b7c8-924e34504441",
   "metadata": {
    "deletable": false,
    "editable": false
   },
   "source": [
    "<!-- BEGIN QUESTION -->\n",
    "\n",
    "<div class='exercise'><b>Q1.2 - Fit Varying-Intercept Model (Simulated Data)</b></div>"
   ]
  },
  {
   "cell_type": "markdown",
   "id": "4c8fa3ba-4299-48a3-89b8-3b4380a93766",
   "metadata": {
    "cell_id": "00033-a22e1869-53f7-4d5c-b241-3a4fbc2e059a",
    "deepnote_cell_type": "markdown",
    "deletable": false,
    "editable": false
   },
   "source": [
    "Create and fit the varying-intercept model specified above to your simulated data. Reasonably good convergence may require adjustments to the number of tuning samples and the target acceptance rate as suggested by any warnings from PyMC."
   ]
  },
  {
   "cell_type": "code",
   "execution_count": null,
   "id": "77c8de5e-f30f-4f90-a78c-3c64b5182af4",
   "metadata": {
    "cell_id": "00044-81a4500e-ccba-4382-8e47-e9c3303295de",
    "deepnote_cell_type": "code",
    "deepnote_to_be_reexecuted": false,
    "execution_millis": 1959703,
    "execution_start": 1646008045892,
    "source_hash": "720847e7",
    "tags": [
     "otter_answer_cell"
    ]
   },
   "outputs": [],
   "source": [
    "# your code here\n",
    "..."
   ]
  },
  {
   "cell_type": "code",
   "execution_count": null,
   "id": "e73946b3-e35e-45c8-bf3d-33cc5cd06c0f",
   "metadata": {
    "cell_id": "00045-5a86892c-4cf2-4412-94bc-cd1c7aab42e2",
    "deepnote_cell_type": "code",
    "deepnote_to_be_reexecuted": false,
    "execution_millis": 22353,
    "execution_start": 1646010005597,
    "source_hash": "e2d1307",
    "tags": [
     "otter_answer_cell"
    ]
   },
   "outputs": [],
   "source": [
    "# your code here\n",
    "..."
   ]
  },
  {
   "cell_type": "code",
   "execution_count": null,
   "id": "2f7266b5-9dd1-4e29-b10a-59e42ccc18f0",
   "metadata": {
    "tags": [
     "otter_answer_cell"
    ]
   },
   "outputs": [],
   "source": [
    "..."
   ]
  },
  {
   "cell_type": "markdown",
   "id": "f1f52ea9-ec09-4041-b4ef-d027d1841b3d",
   "metadata": {
    "deletable": false,
    "editable": false
   },
   "source": [
    "<!-- BEGIN QUESTION -->\n",
    "\n",
    "<div class='exercise'><b>Q1.3 - Convergence Diagnostics</b></div>"
   ]
  },
  {
   "cell_type": "markdown",
   "id": "b9859a0f-6854-4ba4-a675-f7ba63ab7440",
   "metadata": {
    "cell_id": "00033-a22e1869-53f7-4d5c-b241-3a4fbc2e059a",
    "deepnote_cell_type": "markdown",
    "deletable": false,
    "editable": false
   },
   "source": [
    "Plot the trace plots of the MCMC sampler for the parameters $\\mu_0, \\frac{1}{\\sigma^2_0}\\text{ (a.k.a., }\\tau_0\\text{)}, \\beta_1, \\beta_2, \\beta_3$. Based on these and the R-hat values, does it look like the samplers converged? Explain your reasoning.\n",
    "\n",
    "\n",
    "**Hint:** Use the Arviz `plot_trace()` function"
   ]
  },
  {
   "cell_type": "code",
   "execution_count": null,
   "id": "1d8acb99-c435-474b-809b-cb5c01d23edf",
   "metadata": {
    "cell_id": "00048-5399d186-d821-44be-a572-c92880a2535a",
    "deepnote_cell_type": "code",
    "deepnote_to_be_reexecuted": false,
    "execution_millis": 23319,
    "execution_start": 1646010027957,
    "source_hash": "165ef187",
    "tags": [
     "otter_answer_cell"
    ]
   },
   "outputs": [],
   "source": [
    "# your code here\n",
    "..."
   ]
  },
  {
   "cell_type": "markdown",
   "id": "80f94c90-c5e0-4925-b264-e7638ce2bc57",
   "metadata": {
    "tags": [
     "otter_answer_cell"
    ]
   },
   "source": [
    "*Your answer here*\n",
    "\n"
   ]
  },
  {
   "cell_type": "markdown",
   "id": "01c41ca9-d2c5-484e-964a-ccc53ad98dd7",
   "metadata": {
    "deletable": false,
    "editable": false
   },
   "source": [
    "<!-- BEGIN QUESTION -->\n",
    "\n",
    "<div class='exercise'><b>Q1.4 - Inspecting Posteriors</b></div>"
   ]
  },
  {
   "cell_type": "markdown",
   "id": "2abd9240-a123-42f6-be65-2539d6971342",
   "metadata": {
    "cell_id": "00033-a22e1869-53f7-4d5c-b241-3a4fbc2e059a",
    "deepnote_cell_type": "markdown",
    "deletable": false,
    "editable": false
   },
   "source": [
    "Plot histograms of the posterior distributions for the parameters $\\beta_{0,9}$, $\\beta_{0,19}$, $\\beta_{0,29}$, ..., $\\beta_{0,59}$. Are the actual parameters that you generated contained within these posterior distributions?\n",
    "\n",
    "**Hint: The `az.plot_posterior()` function might be helpful here.**"
   ]
  },
  {
   "cell_type": "code",
   "execution_count": null,
   "id": "26430996-760f-4eea-9086-999fa329e6d8",
   "metadata": {
    "cell_id": "00052-9091ae99-e3aa-4d56-a2c0-1e5ce8208096",
    "deepnote_cell_type": "code",
    "deepnote_to_be_reexecuted": false,
    "execution_millis": 5607,
    "execution_start": 1646010051479,
    "source_hash": "49ca3c6e",
    "tags": [
     "otter_answer_cell"
    ]
   },
   "outputs": [],
   "source": [
    "# your code here\n",
    "..."
   ]
  },
  {
   "cell_type": "markdown",
   "id": "6ad78f79-7328-43af-bc9f-063cf2046d64",
   "metadata": {
    "tags": [
     "otter_answer_cell"
    ]
   },
   "source": [
    "*Your answer here*\n",
    "\n"
   ]
  },
  {
   "cell_type": "markdown",
   "id": "5379f953-7f1e-49af-9dec-e4220455e90f",
   "metadata": {
    "cell_id": "00070-98df4d09-fa1a-4971-8751-e1e3cbed918c",
    "deepnote_cell_type": "markdown"
   },
   "source": [
    "<a id=\"part2\"></a>\n",
    "    \n",
    "<!-- <div class=\"alert alert-block alert-danger\" style=\"color:black;background-color:#E7F4FA\"> -->\n",
    "\n",
    "### <div class='exercise'>Part 2: Varying-Intercept Model (Real Data)</div> \n",
    "\n",
    "[Return to contents](#contents)\n"
   ]
  },
  {
   "cell_type": "markdown",
   "id": "03ec436d-396f-4b5c-a445-ae2864c72381",
   "metadata": {
    "deletable": false,
    "editable": false
   },
   "source": [
    "<!-- BEGIN QUESTION -->\n",
    "\n",
    "<div class='exercise'><b>Q2.1 - Fit Varying-Intercept Model (Real Data)</b></div>"
   ]
  },
  {
   "cell_type": "markdown",
   "id": "17ec2fc6-264b-4829-baab-d807f6c0d8cc",
   "metadata": {
    "cell_id": "00033-a22e1869-53f7-4d5c-b241-3a4fbc2e059a",
    "deepnote_cell_type": "markdown",
    "deletable": false,
    "editable": false
   },
   "source": [
    "Now we'll fit our model to the *actual* data. Construct and fit the varying-intercept model to the real training data."
   ]
  },
  {
   "cell_type": "code",
   "execution_count": null,
   "id": "f49bb0e0-57cb-4737-8913-bb98269f1fd7",
   "metadata": {
    "cell_id": "00056-57b57c69-1a38-4758-882d-4b2655cb3fe5",
    "deepnote_cell_type": "code",
    "deepnote_to_be_reexecuted": false,
    "execution_millis": 526351,
    "execution_start": 1646010057094,
    "source_hash": "13957af3",
    "tags": [
     "otter_answer_cell"
    ]
   },
   "outputs": [],
   "source": [
    "# your code here\n",
    "..."
   ]
  },
  {
   "cell_type": "markdown",
   "id": "2579dd69-6d17-4335-8344-627f1bffcea3",
   "metadata": {
    "deletable": false,
    "editable": false
   },
   "source": [
    "<!-- BEGIN QUESTION -->\n",
    "\n",
    "<div class='exercise'><b>Q2.2 - Convergence Diagnostics</b></div>"
   ]
  },
  {
   "cell_type": "markdown",
   "id": "0575e8cd-1e8a-446c-b464-76508d4733ea",
   "metadata": {
    "cell_id": "00033-a22e1869-53f7-4d5c-b241-3a4fbc2e059a",
    "deepnote_cell_type": "markdown",
    "deletable": false,
    "editable": false
   },
   "source": [
    "Check the convergence by examining the trace plots and R-hats, as you did with the simulated data. What do you observe?"
   ]
  },
  {
   "cell_type": "code",
   "execution_count": null,
   "id": "f904b8fe-72e5-4376-ae38-028578cd887e",
   "metadata": {
    "cell_id": "00059-cbdb7044-347b-4221-9ed5-1fa55ce951c9",
    "deepnote_cell_type": "code",
    "deepnote_to_be_reexecuted": false,
    "execution_millis": 43057,
    "execution_start": 1646010583458,
    "source_hash": "655f3784",
    "tags": [
     "otter_answer_cell"
    ]
   },
   "outputs": [],
   "source": [
    "# your code here\n",
    "..."
   ]
  },
  {
   "cell_type": "markdown",
   "id": "4ea8d811-542a-4459-be78-ac56e14da133",
   "metadata": {
    "tags": [
     "otter_answer_cell"
    ]
   },
   "source": [
    "*Your answer here*\n",
    "\n"
   ]
  },
  {
   "cell_type": "markdown",
   "id": "90e53af8-7f58-4bc7-ae92-65fc251d221b",
   "metadata": {
    "deletable": false,
    "editable": false
   },
   "source": [
    "<!-- BEGIN QUESTION -->\n",
    "\n",
    "<div class='exercise'><b>Q2.3 - Districts with Highest & Lowest Rates of Contraceptive Usage</b></div>"
   ]
  },
  {
   "cell_type": "markdown",
   "id": "d28abd8d-d098-46d1-94eb-ea6461281a0a",
   "metadata": {
    "cell_id": "00033-a22e1869-53f7-4d5c-b241-3a4fbc2e059a",
    "deepnote_cell_type": "markdown",
    "deletable": false,
    "editable": false
   },
   "source": [
    "Based on the posterior means, which district has the highest base rate of contraceptive usage (independent of other factors like urban population)? Which district has the lowest? Explain how you arrived at these conclusions, interpreting any numerical values that played a role in your reasoning."
   ]
  },
  {
   "cell_type": "code",
   "execution_count": null,
   "id": "bba94478-7504-4cc5-9686-4d5858573594",
   "metadata": {
    "cell_id": "00063-86b4bb15-2e4b-429b-802a-cb597d9bbcc4",
    "deepnote_cell_type": "code",
    "deepnote_to_be_reexecuted": false,
    "execution_millis": 15276381,
    "execution_start": 1646010626517,
    "source_hash": "29886fe",
    "tags": [
     "otter_answer_cell"
    ]
   },
   "outputs": [],
   "source": [
    "# your code here\n",
    "..."
   ]
  },
  {
   "cell_type": "markdown",
   "id": "3320fbe5-f6cb-4be6-a4eb-8688602c384d",
   "metadata": {
    "tags": [
     "otter_answer_cell"
    ]
   },
   "source": [
    "*Your answer here*\n",
    "\n"
   ]
  },
  {
   "cell_type": "markdown",
   "id": "0e419607-cece-4d05-a805-1268a4fc8ca8",
   "metadata": {
    "deletable": false,
    "editable": false
   },
   "source": [
    "<!-- BEGIN QUESTION -->\n",
    "\n",
    "<div class='exercise'><b>Q2.4 - Varying Intercept? Conclusions from Posterior Samples</b></div>"
   ]
  },
  {
   "cell_type": "markdown",
   "id": "7b06b4c9-6375-49f4-ac76-520dcb4388a4",
   "metadata": {
    "cell_id": "00033-a22e1869-53f7-4d5c-b241-3a4fbc2e059a",
    "deepnote_cell_type": "markdown",
    "deletable": false,
    "editable": false
   },
   "source": [
    "What are the posterior means of $\\mu_0$ and $\\sigma_0$? Do these values offer any evidence in support of or against the varying-intercept model, compared to a model with a single intercept value for all districts? Explain why or why not.\n",
    "\n",
    "\n",
    "**Hint:** Both ArviZ's `plot_posterior` and [`plot_forest()`](https://arviz-devs.github.io/arviz/api/generated/arviz.plot_forest.html) functions will prove useful here."
   ]
  },
  {
   "cell_type": "code",
   "execution_count": null,
   "id": "e3243e5d-3d8e-4047-9c2a-38cb4207d12a",
   "metadata": {
    "cell_id": "00067-25f1d0c0-e087-443d-bd3e-be0d49d072e4",
    "deepnote_cell_type": "code",
    "deepnote_to_be_reexecuted": false,
    "execution_millis": 14508,
    "execution_start": 1646010626521,
    "source_hash": "101d7f7b",
    "tags": [
     "otter_answer_cell"
    ]
   },
   "outputs": [],
   "source": [
    "# your code here\n",
    "..."
   ]
  },
  {
   "cell_type": "markdown",
   "id": "565c4ba8-d1bb-48c2-a83f-84e6ab74d0db",
   "metadata": {
    "tags": [
     "otter_answer_cell"
    ]
   },
   "source": [
    "*Your answer here*\n",
    "\n"
   ]
  },
  {
   "cell_type": "markdown",
   "id": "cd3efabd-455c-43b4-a0dd-da6368158652",
   "metadata": {
    "cell_id": "00070-98df4d09-fa1a-4971-8751-e1e3cbed918c",
    "deepnote_cell_type": "markdown"
   },
   "source": [
    "<a id=\"part3\"></a>\n",
    "    \n",
    "<!-- <div class=\"alert alert-block alert-danger\" style=\"color:black;background-color:#E7F4FA\"> -->\n",
    "\n",
    "## <div class='exercise'>Part 3: Varying-Coefficient Model</div> \n",
    "\n",
    "[Return to contents](#contents)\n"
   ]
  },
  {
   "cell_type": "markdown",
   "id": "4bc05958-9b78-4e38-bc1e-2dd323523e2f",
   "metadata": {
    "cell_id": "00071-539e75a4-c042-416d-8820-1573106230fd",
    "deepnote_cell_type": "markdown"
   },
   "source": [
    "The next model we will fit to the contraceptives data is a **varying-coefficients logistic regression** model. Here, in addition to a varying intercept, the coefficients on `living.children`, `age_mean`, and `urban` also vary by district.\n",
    "\n",
    "Prior distribution:\n",
    "\n",
    "$$\n",
    "\\begin{split}\n",
    "\\beta_{0j} &\\sim N(\\mu_0,\\sigma_0^2)\\; \\text{, with} \\;\\; \\mu_0 \\sim N(0,10000)\\; \\text{and} \\; \\; \\frac{1}{\\sigma^2_0} \\sim \\text{Gamma}(0.1,0.1)\n",
    "\\\\\n",
    "\\beta_{1j} &\\sim N(0,\\sigma_1^2)\\; \\text{, with} \\;\\; \\frac{1}{\\sigma^2_1} \\sim \\text{Gamma}(0.1,0.1) \n",
    "\\\\\n",
    "\\beta_{2j} &\\sim N(0,\\sigma_2^2)\\; \\text{, with} \\;\\; \\frac{1}{\\sigma^2_2} \\sim \\text{Gamma}(0.1,0.1)\n",
    "\\\\ \n",
    "\\beta_{3j} &\\sim N(0,\\sigma_3^2)\\; \\text{, with} \\;\\; \\frac{1}{\\sigma^2_3} \\sim \\text{Gamma}(0.1,0.1)\n",
    "\\\\\n",
    "\\end{split}\n",
    "$$\n",
    "\n",
    "Model for data:\n",
    "\n",
    "$$\n",
    "\\begin{split}\n",
    "Y_{ij} &\\sim \\text{Bernoulli}(p_{ij})\n",
    "\\\\ \\\\\n",
    "\\text{logit}\\:p_{ij} &= \\beta_{0j} + \\beta_{1j} \\times \\text{urban} + \\beta_{2j} \\times \\text{living.children} + \\beta_{3j} \\times \\text{age-mean}\n",
    "\\\\ \\\\\n",
    "\\end{split}\n",
    "$$\n",
    "\n",
    "**PLEASE NOTE:**\n",
    "\n",
    "* The name \"varying coefficient model\" is used here to distinguish the Q3 model from the \"varying intercept\" model in Q2, but observe from the specification about that **BOTH** intercepts *and* coefficients vary in this Q3 model.\n",
    "* Once again, the $\\text{Gamma}$ distribution uses the $\\text{Gamma}(\\alpha, \\beta)$ parametrization, where $\\alpha$ is the shape and $\\beta$ is the rate. "
   ]
  },
  {
   "cell_type": "markdown",
   "id": "c880520b-2634-4cbe-a165-959869d88cd7",
   "metadata": {
    "deletable": false,
    "editable": false
   },
   "source": [
    "<!-- BEGIN QUESTION -->\n",
    "\n",
    "<div class='exercise'><b>Q3.1 - Fit Varying Coefficient Model</b></div>"
   ]
  },
  {
   "cell_type": "markdown",
   "id": "91534f56-61b8-4b10-b5eb-7589fb52433c",
   "metadata": {
    "cell_id": "00072-73f175bc-c952-4217-96ac-4e0a857139cf",
    "deepnote_cell_type": "markdown",
    "deletable": false,
    "editable": false
   },
   "source": [
    "Fit the varying-coefficients model described above to the real training data."
   ]
  },
  {
   "cell_type": "code",
   "execution_count": null,
   "id": "a400e053-430d-46d1-b979-92622b2d79da",
   "metadata": {
    "cell_id": "00075-262b294c-765f-42d4-aee7-6d867790e0d4",
    "deepnote_cell_type": "code",
    "deepnote_to_be_reexecuted": false,
    "execution_millis": 982412,
    "execution_start": 1646010640679,
    "source_hash": "8d4fd657",
    "tags": [
     "otter_answer_cell"
    ]
   },
   "outputs": [],
   "source": [
    "# your code here\n",
    "..."
   ]
  },
  {
   "cell_type": "markdown",
   "id": "cc1fda18-626b-49f6-b094-e74aebf50d11",
   "metadata": {
    "deletable": false,
    "editable": false
   },
   "source": [
    "<!-- BEGIN QUESTION -->\n",
    "\n",
    "<div class='exercise'><b>Q3.2 - Convergence Diagnostics</b></div>"
   ]
  },
  {
   "cell_type": "markdown",
   "id": "4787e67f-00ee-45d1-8591-f9bd43f8cde6",
   "metadata": {
    "cell_id": "00072-73f175bc-c952-4217-96ac-4e0a857139cf",
    "deepnote_cell_type": "markdown",
    "deletable": false,
    "editable": false
   },
   "source": [
    "Check the convergence of your varying-coefficients model by examining the trace plots and R-hats, as you did with the varying-intercept models earlier. What do you observe?"
   ]
  },
  {
   "cell_type": "code",
   "execution_count": null,
   "id": "3bc039f8-c6ee-4128-a213-ae9a73ddc946",
   "metadata": {
    "cell_id": "00078-0ce2b5b9-117b-43c1-89ab-1eaef8d4e2ca",
    "deepnote_cell_type": "code",
    "deepnote_to_be_reexecuted": false,
    "execution_millis": 96437,
    "execution_start": 1646011623092,
    "source_hash": "dcc74567",
    "tags": [
     "otter_answer_cell"
    ]
   },
   "outputs": [],
   "source": [
    "# your code here\n",
    "..."
   ]
  },
  {
   "cell_type": "markdown",
   "id": "797de661-e315-4793-a510-d09e9b192e25",
   "metadata": {
    "tags": [
     "otter_answer_cell"
    ]
   },
   "source": [
    "*Your answer here*\n",
    "\n"
   ]
  },
  {
   "cell_type": "markdown",
   "id": "13aef5a8-ae63-4a5c-aef0-e9b41deee2e3",
   "metadata": {
    "deletable": false,
    "editable": false
   },
   "source": [
    "<!-- BEGIN QUESTION -->\n",
    "\n",
    "<div class='exercise'><b>Q3.3 - Distribution of Posterior Means & HDIs</b></div>"
   ]
  },
  {
   "cell_type": "markdown",
   "id": "3836dd98-a78b-4823-9439-ca6007c0d5bd",
   "metadata": {
    "cell_id": "00072-73f175bc-c952-4217-96ac-4e0a857139cf",
    "deepnote_cell_type": "markdown",
    "deletable": false,
    "editable": false
   },
   "source": [
    "Plot the distributions of posterior means and the 95% highest posterior density intervals (HDIs) for the intercepts and coefficients for each district. What do you conclude from these graphs?\n",
    "\n",
    "**HINT:** The ArviZ [`plot_forest()`](https://arviz-devs.github.io/arviz/api/generated/arviz.plot_forest.html) function is very well-suited for this task."
   ]
  },
  {
   "cell_type": "code",
   "execution_count": null,
   "id": "3bf507b3-a72b-4c17-bfb9-0b706e828261",
   "metadata": {
    "cell_id": "00082-1b6f4064-62eb-4af6-b400-9b08eeb2ddd8",
    "deepnote_cell_type": "code",
    "deepnote_to_be_reexecuted": false,
    "execution_millis": 81433,
    "execution_start": 1646011719055,
    "source_hash": "1fdb1e69",
    "tags": [
     "otter_answer_cell"
    ]
   },
   "outputs": [],
   "source": [
    "# your code here\n",
    "..."
   ]
  },
  {
   "cell_type": "markdown",
   "id": "bcaed834-1230-41e0-96ae-e8e6a24a5417",
   "metadata": {
    "tags": [
     "otter_answer_cell"
    ]
   },
   "source": [
    "*Your answer here*\n",
    "\n"
   ]
  },
  {
   "cell_type": "markdown",
   "id": "c77e306f-5080-4681-84be-a76e34e62f1d",
   "metadata": {
    "cell_id": "00070-98df4d09-fa1a-4971-8751-e1e3cbed918c",
    "deepnote_cell_type": "markdown"
   },
   "source": [
    "<a id=\"part4\"></a>\n",
    "    \n",
    "<!-- <div class=\"alert alert-block alert-danger\" style=\"color:black;background-color:#E7F4FA\"> -->\n",
    "\n",
    "## <div class='exercise'>Part 4: Predictions & Model Selection</div> \n",
    "\n",
    "[Return to contents](#contents)"
   ]
  },
  {
   "cell_type": "markdown",
   "id": "53e245dc-31c8-4c6b-813b-b21286c76edb",
   "metadata": {
    "deletable": false,
    "editable": false
   },
   "source": [
    "<!-- BEGIN QUESTION -->\n",
    "\n",
    "<div class='exercise'><b>Q4.1 - Model Evaluation & Comparison</b></div>"
   ]
  },
  {
   "cell_type": "markdown",
   "id": "f515e34c-7be5-4984-9645-df4a69fda31f",
   "metadata": {
    "cell_id": "00072-73f175bc-c952-4217-96ac-4e0a857139cf",
    "deepnote_cell_type": "markdown",
    "deletable": false,
    "editable": false
   },
   "source": [
    "Now that we’ve fit varying-intercept and varying-coefficient models we will evaluate their predictive performance and compare them to a naive baseline.\n",
    " \n",
    "First, sample from the posterior predictive distribution using `pm.sample_posterior_predictive()`, generating predictions for both models on the train and test sets.\n",
    "\n",
    "Next, compute the accuracy and percentage of predictions classified as `1` for each model on both train and test.\n",
    "\n",
    "Finally, compute the train and test accuracy of a naive model that predicts the most common class in the training set for all inputs."
   ]
  },
  {
   "cell_type": "code",
   "execution_count": null,
   "id": "0118eb3f-6f35-45d0-89d2-2e8b18c9fe0b",
   "metadata": {
    "tags": [
     "otter_answer_cell"
    ]
   },
   "outputs": [],
   "source": [
    "# your code here\n",
    "..."
   ]
  },
  {
   "cell_type": "code",
   "execution_count": null,
   "id": "b457996d-11d9-46aa-acd6-f6b29caa8212",
   "metadata": {
    "tags": [
     "otter_answer_cell"
    ]
   },
   "outputs": [],
   "source": [
    "# your code here\n",
    "..."
   ]
  },
  {
   "cell_type": "code",
   "execution_count": null,
   "id": "a6a43797-4213-4811-b090-9a0b2e99b1a2",
   "metadata": {
    "cell_id": "00088-00e25a5a-b66f-46a5-a11f-19f298981302",
    "deepnote_cell_type": "code",
    "deepnote_to_be_reexecuted": false,
    "execution_millis": 3,
    "execution_start": 1646011810089,
    "source_hash": "c0cbeeeb",
    "tags": [
     "otter_answer_cell"
    ]
   },
   "outputs": [],
   "source": [
    "# your code here\n",
    "..."
   ]
  },
  {
   "cell_type": "markdown",
   "id": "f77ec636-10b7-41ce-9e79-0f25b4ba2657",
   "metadata": {
    "deletable": false,
    "editable": false
   },
   "source": [
    "<!-- BEGIN QUESTION -->\n",
    "\n",
    "<div class='exercise'><b>Q4.2 - Model Selection</b></div>"
   ]
  },
  {
   "cell_type": "markdown",
   "id": "573cf87f-7d82-4339-bfd2-8f371c890a74",
   "metadata": {
    "deletable": false,
    "editable": false
   },
   "source": [
    "What do you conclude from the results of 4.1? Which model appears to be the best (i.e. varying-intercept, varying-coefficient, or naive), and what is your rationale?"
   ]
  },
  {
   "cell_type": "markdown",
   "id": "a27b1843-98ed-471d-ac7c-2de326232888",
   "metadata": {
    "tags": [
     "otter_answer_cell"
    ]
   },
   "source": [
    "*Your answer here*\n",
    "\n"
   ]
  },
  {
   "cell_type": "markdown",
   "id": "5f3ef986-b0f1-4dc0-bfde-90117b395d9a",
   "metadata": {
    "deletable": false,
    "editable": false
   },
   "source": [
    "<!-- BEGIN QUESTION -->\n",
    "\n",
    "<div class='exercise'><b>Q4.3 Wrap-up</b></div>"
   ]
  },
  {
   "cell_type": "markdown",
   "id": "4f1e1f65-25be-42a8-a711-f12373c6b42a",
   "metadata": {
    "deletable": false,
    "editable": false
   },
   "source": [
    "* In a few sentences, please describe the aspect(s) of the assignment you found most challenging. This could be conceptual and/or related to coding and implementation.\n",
    "\n",
    "* How many hours did you spend working on this assignment? Store this as an int or float in `time_spent_on_hw`"
   ]
  },
  {
   "cell_type": "code",
   "execution_count": null,
   "id": "8d158fb5-b59a-4c78-9a3c-55e2abd64891",
   "metadata": {
    "tags": [
     "otter_answer_cell"
    ]
   },
   "outputs": [],
   "source": [
    "time_spent_on_hw = ..."
   ]
  },
  {
   "cell_type": "markdown",
   "id": "eded7e3c-b47b-4cc9-bd87-f67eaee37404",
   "metadata": {
    "tags": [
     "otter_answer_cell"
    ]
   },
   "source": [
    "*Your answer here*\n",
    "\n"
   ]
  },
  {
   "cell_type": "code",
   "execution_count": null,
   "id": "98cf6a7d",
   "metadata": {
    "deletable": false,
    "editable": false
   },
   "outputs": [],
   "source": [
    "grader.check(\"q4.3\")"
   ]
  },
  {
   "cell_type": "code",
   "execution_count": null,
   "id": "c6139297-5fc7-4232-a285-0b38e4f0d19e",
   "metadata": {},
   "outputs": [],
   "source": [
    "time_end = time.time()\n",
    "print(f\"It took {(time_end - time_start)/60:.2f} minutes for this notebook to run\")"
   ]
  },
  {
   "cell_type": "markdown",
   "id": "9067ceb1-dc6a-448d-8e5e-ae30040116d4",
   "metadata": {},
   "source": [
    "**This concludes HW1. Thank you!** 🌈"
   ]
  },
  {
   "cell_type": "code",
   "execution_count": null,
   "id": "a473e155-55f4-47f8-b169-8f758c20b1c2",
   "metadata": {},
   "outputs": [],
   "source": []
  }
 ],
 "metadata": {
  "kernelspec": {
   "display_name": "Python 3 (ipykernel)",
   "language": "python",
   "name": "python3"
  },
  "language_info": {
   "codemirror_mode": {
    "name": "ipython",
    "version": 3
   },
   "file_extension": ".py",
   "mimetype": "text/x-python",
   "name": "python",
   "nbconvert_exporter": "python",
   "pygments_lexer": "ipython3",
   "version": "3.12.9"
  },
  "otter": {
   "OK_FORMAT": true,
   "tests": {
    "q#1.1": {
     "name": "q#1.1",
     "points": null,
     "suites": [
      {
       "cases": [
        {
         "code": ">>> assert len(simulated_Y) == df_train.shape[0], 'You should have a simulated y for each observation in the training data'\n>>> assert np.mean(simulated_Y) >= 0.48 and np.mean(simulated_Y) <= 0.5, 'Something is off about your simulated y values. The proportion of 1s is outside the expected range.'\n",
         "hidden": false,
         "locked": false
        }
       ],
       "scored": true,
       "setup": "",
       "teardown": "",
       "type": "doctest"
      }
     ]
    },
    "q4.3": {
     "name": "q4.3",
     "points": null,
     "suites": [
      {
       "cases": [
        {
         "code": ">>> assert float(time_spent_on_hw), 'Please select a time in hours (int or float) to specify how long you spent on this assignment.'\n",
         "hidden": false,
         "locked": false
        }
       ],
       "scored": true,
       "setup": "",
       "teardown": "",
       "type": "doctest"
      }
     ]
    }
   }
  }
 },
 "nbformat": 4,
 "nbformat_minor": 5
}
